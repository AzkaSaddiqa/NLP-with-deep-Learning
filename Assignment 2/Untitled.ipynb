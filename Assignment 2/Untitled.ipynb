{
 "cells": [
  {
   "cell_type": "code",
   "execution_count": 7,
   "id": "65bfb026",
   "metadata": {},
   "outputs": [
    {
     "name": "stdout",
     "output_type": "stream",
     "text": [
      "=== Sanity check for sigmoid ===\n",
      "Tests for sigmoid passed!\n",
      "==== Gradient check for naiveSoftmaxLossAndGradient ====\n",
      "Gradient check passed!. Read the docstring of the `gradcheck_naive` method in utils.gradcheck.py to understand what the gradient check does.\n",
      "Gradient check passed!. Read the docstring of the `gradcheck_naive` method in utils.gradcheck.py to understand what the gradient check does.\n",
      "==== Gradient check for negSamplingLossAndGradient ====\n",
      "Gradient check passed!. Read the docstring of the `gradcheck_naive` method in utils.gradcheck.py to understand what the gradient check does.\n",
      "Gradient check passed!. Read the docstring of the `gradcheck_naive` method in utils.gradcheck.py to understand what the gradient check does.\n",
      "==== Gradient check for skip-gram with naiveSoftmaxLossAndGradient ====\n",
      "Gradient check passed!. Read the docstring of the `gradcheck_naive` method in utils.gradcheck.py to understand what the gradient check does.\n",
      "======Skip-Gram with naiveSoftmaxLossAndGradient Test Cases======\n",
      "The first test passed!\n",
      "The second test passed!\n",
      "The third test passed!\n",
      "All 3 tests passed!\n",
      "==== Gradient check for skip-gram with negSamplingLossAndGradient ====\n",
      "Gradient check passed!. Read the docstring of the `gradcheck_naive` method in utils.gradcheck.py to understand what the gradient check does.\n",
      "======Skip-Gram with negSamplingLossAndGradient======\n",
      "The first test passed!\n",
      "The second test passed!\n",
      "The third test passed!\n",
      "All 3 tests passed!\n"
     ]
    }
   ],
   "source": [
    "!python word2vec.py all"
   ]
  },
  {
   "cell_type": "code",
   "execution_count": 11,
   "id": "5423a063",
   "metadata": {},
   "outputs": [
    {
     "name": "stderr",
     "output_type": "stream",
     "text": [
      "'sh' is not recognized as an internal or external command,\n",
      "operable program or batch file.\n"
     ]
    }
   ],
   "source": [
    "!sh get datasets.sh"
   ]
  },
  {
   "cell_type": "code",
   "execution_count": 10,
   "id": "945a697d",
   "metadata": {},
   "outputs": [
    {
     "name": "stderr",
     "output_type": "stream",
     "text": [
      "Traceback (most recent call last):\n",
      "  File \"C:\\Users\\azka9\\Documents\\NLP with Deep learning\\Assignments\\a2\\run.py\", line 22, in <module>\n",
      "    tokens = dataset.tokens()\n",
      "  File \"C:\\Users\\azka9\\Documents\\NLP with Deep learning\\Assignments\\a2\\utils\\treebank.py\", line 27, in tokens\n",
      "    for sentence in self.sentences():\n",
      "  File \"C:\\Users\\azka9\\Documents\\NLP with Deep learning\\Assignments\\a2\\utils\\treebank.py\", line 54, in sentences\n",
      "    with open(self.path + \"/datasetSentences.txt\", \"r\") as f:\n",
      "FileNotFoundError: [Errno 2] No such file or directory: 'utils/datasets/stanfordSentimentTreebank/datasetSentences.txt'\n"
     ]
    }
   ],
   "source": [
    "! python run.py"
   ]
  },
  {
   "cell_type": "code",
   "execution_count": null,
   "id": "191679d9",
   "metadata": {},
   "outputs": [],
   "source": []
  }
 ],
 "metadata": {
  "kernelspec": {
   "display_name": "Python 3 (ipykernel)",
   "language": "python",
   "name": "python3"
  },
  "language_info": {
   "codemirror_mode": {
    "name": "ipython",
    "version": 3
   },
   "file_extension": ".py",
   "mimetype": "text/x-python",
   "name": "python",
   "nbconvert_exporter": "python",
   "pygments_lexer": "ipython3",
   "version": "3.9.13"
  }
 },
 "nbformat": 4,
 "nbformat_minor": 5
}
